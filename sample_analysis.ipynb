{
 "cells": [
  {
   "cell_type": "markdown",
   "metadata": {},
   "source": [
    "# Balance"
   ]
  },
  {
   "cell_type": "code",
   "execution_count": null,
   "metadata": {},
   "outputs": [],
   "source": [
    "import sys\n",
    "sys.path.append('../')\n",
    "from loguru import logger\n",
    "from analytics.portfolio import portfolio_token_analysis\n",
    "\n",
    "balance = [\n",
    "    ['btc','all',0.01],\n",
    "]\n",
    "\n",
    "df = portfolio_token_analysis(balance)\n",
    "\n",
    "cost = 10\n",
    "rmb_usd_rate = 7.2\n",
    "total_value = df['value'].sum()\n",
    "logger.info(f\"\"\"\n",
    "    total value is ${round(total_value,2)} (￥{round(total_value * rmb_usd_rate,2)}),\n",
    "    profit is ${round(total_value - cost,2)} (￥{round((total_value - cost) * rmb_usd_rate,2)}),\n",
    "    profit rate is {round(100*round(total_value - cost,2)/total_value)}%\"\"\"\n",
    ")\n",
    "df"
   ]
  },
  {
   "cell_type": "markdown",
   "metadata": {},
   "source": [
    "# Pair Candlesticks"
   ]
  },
  {
   "cell_type": "code",
   "execution_count": null,
   "metadata": {},
   "outputs": [],
   "source": [
    "import sys\n",
    "sys.path.append('../')\n",
    "import mplfinance as mpf\n",
    "\n",
    "from analytics.pair import Pair\n",
    "\n",
    "quote_token = 'eth'\n",
    "base_token = 'btc'\n",
    "\n",
    "df = Pair(quote_token, base_token).candlesticks(interval='1d')\n",
    "mpf.plot(df.sort_values(by='timestamp'), type='candle', style='charles', title='Candlestick Chart', ylabel='Price', figscale=1.5, mav=(5,10,30))"
   ]
  }
 ],
 "metadata": {
  "kernelspec": {
   "display_name": "Python 3",
   "language": "python",
   "name": "python3"
  },
  "language_info": {
   "codemirror_mode": {
    "name": "ipython",
    "version": 3
   },
   "file_extension": ".py",
   "mimetype": "text/x-python",
   "name": "python",
   "nbconvert_exporter": "python",
   "pygments_lexer": "ipython3",
   "version": "3.11.5"
  }
 },
 "nbformat": 4,
 "nbformat_minor": 2
}
